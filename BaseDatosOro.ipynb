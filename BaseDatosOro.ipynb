{
  "nbformat": 4,
  "nbformat_minor": 0,
  "metadata": {
    "colab": {
      "name": "BaseDatosOro.ipynb",
      "provenance": [],
      "include_colab_link": true
    },
    "kernelspec": {
      "display_name": "Python 3",
      "language": "python",
      "name": "python3"
    },
    "language_info": {
      "codemirror_mode": {
        "name": "ipython",
        "version": 3
      },
      "file_extension": ".py",
      "mimetype": "text/x-python",
      "name": "python",
      "nbconvert_exporter": "python",
      "pygments_lexer": "ipython3",
      "version": "3.8.5"
    }
  },
  "cells": [
    {
      "cell_type": "markdown",
      "metadata": {
        "id": "view-in-github",
        "colab_type": "text"
      },
      "source": [
        "<a href=\"https://colab.research.google.com/github/Harol2000RC/ClaseMachineLearning/blob/main/BaseDatosOro.ipynb\" target=\"_parent\"><img src=\"https://colab.research.google.com/assets/colab-badge.svg\" alt=\"Open In Colab\"/></a>"
      ]
    },
    {
      "cell_type": "markdown",
      "metadata": {
        "id": "RgsTEhRlF39V"
      },
      "source": [
        "## ORO!!! Forecasting\n",
        "### Harol Rambauth "
      ]
    },
    {
      "cell_type": "code",
      "metadata": {
        "id": "N7tyhnsLGA30"
      },
      "source": [
        "## Importando las librerías\n",
        "import pandas as pd\n",
        "import numpy as np\n",
        "\n",
        "import numpy as np\n",
        "from mpl_toolkits import mplot3d\n",
        "import matplotlib.pyplot as plt"
      ],
      "execution_count": 15,
      "outputs": []
    },
    {
      "cell_type": "code",
      "metadata": {
        "id": "Opw7aPwUGEoV",
        "colab": {
          "base_uri": "https://localhost:8080/",
          "height": 314
        },
        "outputId": "8dceb8a4-ff9a-4fda-a1cc-10e750ae7975"
      },
      "source": [
        "dataframeGold = pd.read_csv('gold_price_data.csv')\n",
        "print(dataframeGold.columns)\n",
        "dataframeGold.describe()"
      ],
      "execution_count": 5,
      "outputs": [
        {
          "output_type": "stream",
          "text": [
            "Index(['Date', 'Value'], dtype='object')\n"
          ],
          "name": "stdout"
        },
        {
          "output_type": "execute_result",
          "data": {
            "text/html": [
              "<div>\n",
              "<style scoped>\n",
              "    .dataframe tbody tr th:only-of-type {\n",
              "        vertical-align: middle;\n",
              "    }\n",
              "\n",
              "    .dataframe tbody tr th {\n",
              "        vertical-align: top;\n",
              "    }\n",
              "\n",
              "    .dataframe thead th {\n",
              "        text-align: right;\n",
              "    }\n",
              "</style>\n",
              "<table border=\"1\" class=\"dataframe\">\n",
              "  <thead>\n",
              "    <tr style=\"text-align: right;\">\n",
              "      <th></th>\n",
              "      <th>Value</th>\n",
              "    </tr>\n",
              "  </thead>\n",
              "  <tbody>\n",
              "    <tr>\n",
              "      <th>count</th>\n",
              "      <td>10787.000000</td>\n",
              "    </tr>\n",
              "    <tr>\n",
              "      <th>mean</th>\n",
              "      <td>653.596634</td>\n",
              "    </tr>\n",
              "    <tr>\n",
              "      <th>std</th>\n",
              "      <td>434.030848</td>\n",
              "    </tr>\n",
              "    <tr>\n",
              "      <th>min</th>\n",
              "      <td>35.100000</td>\n",
              "    </tr>\n",
              "    <tr>\n",
              "      <th>25%</th>\n",
              "      <td>349.200000</td>\n",
              "    </tr>\n",
              "    <tr>\n",
              "      <th>50%</th>\n",
              "      <td>409.350000</td>\n",
              "    </tr>\n",
              "    <tr>\n",
              "      <th>75%</th>\n",
              "      <td>1061.625000</td>\n",
              "    </tr>\n",
              "    <tr>\n",
              "      <th>max</th>\n",
              "      <td>1895.000000</td>\n",
              "    </tr>\n",
              "  </tbody>\n",
              "</table>\n",
              "</div>"
            ],
            "text/plain": [
              "              Value\n",
              "count  10787.000000\n",
              "mean     653.596634\n",
              "std      434.030848\n",
              "min       35.100000\n",
              "25%      349.200000\n",
              "50%      409.350000\n",
              "75%     1061.625000\n",
              "max     1895.000000"
            ]
          },
          "metadata": {},
          "execution_count": 5
        }
      ]
    },
    {
      "cell_type": "code",
      "metadata": {
        "id": "e7n6GXFSHb5q",
        "colab": {
          "base_uri": "https://localhost:8080/",
          "height": 410
        },
        "outputId": "38f8fb82-4520-473e-edb7-0ab03861b8b4"
      },
      "source": [
        "print(dataframeGold.dtypes)\n",
        "dataframeGold.head(10)"
      ],
      "execution_count": 6,
      "outputs": [
        {
          "output_type": "stream",
          "text": [
            "Date      object\n",
            "Value    float64\n",
            "dtype: object\n"
          ],
          "name": "stdout"
        },
        {
          "output_type": "execute_result",
          "data": {
            "text/html": [
              "<div>\n",
              "<style scoped>\n",
              "    .dataframe tbody tr th:only-of-type {\n",
              "        vertical-align: middle;\n",
              "    }\n",
              "\n",
              "    .dataframe tbody tr th {\n",
              "        vertical-align: top;\n",
              "    }\n",
              "\n",
              "    .dataframe thead th {\n",
              "        text-align: right;\n",
              "    }\n",
              "</style>\n",
              "<table border=\"1\" class=\"dataframe\">\n",
              "  <thead>\n",
              "    <tr style=\"text-align: right;\">\n",
              "      <th></th>\n",
              "      <th>Date</th>\n",
              "      <th>Value</th>\n",
              "    </tr>\n",
              "  </thead>\n",
              "  <tbody>\n",
              "    <tr>\n",
              "      <th>0</th>\n",
              "      <td>1970-01-01</td>\n",
              "      <td>35.2</td>\n",
              "    </tr>\n",
              "    <tr>\n",
              "      <th>1</th>\n",
              "      <td>1970-04-01</td>\n",
              "      <td>35.1</td>\n",
              "    </tr>\n",
              "    <tr>\n",
              "      <th>2</th>\n",
              "      <td>1970-07-01</td>\n",
              "      <td>35.4</td>\n",
              "    </tr>\n",
              "    <tr>\n",
              "      <th>3</th>\n",
              "      <td>1970-10-01</td>\n",
              "      <td>36.2</td>\n",
              "    </tr>\n",
              "    <tr>\n",
              "      <th>4</th>\n",
              "      <td>1971-01-01</td>\n",
              "      <td>37.4</td>\n",
              "    </tr>\n",
              "    <tr>\n",
              "      <th>5</th>\n",
              "      <td>1971-04-01</td>\n",
              "      <td>38.9</td>\n",
              "    </tr>\n",
              "    <tr>\n",
              "      <th>6</th>\n",
              "      <td>1971-07-01</td>\n",
              "      <td>40.1</td>\n",
              "    </tr>\n",
              "    <tr>\n",
              "      <th>7</th>\n",
              "      <td>1971-10-01</td>\n",
              "      <td>42.0</td>\n",
              "    </tr>\n",
              "    <tr>\n",
              "      <th>8</th>\n",
              "      <td>1972-01-03</td>\n",
              "      <td>43.5</td>\n",
              "    </tr>\n",
              "    <tr>\n",
              "      <th>9</th>\n",
              "      <td>1972-04-03</td>\n",
              "      <td>48.3</td>\n",
              "    </tr>\n",
              "  </tbody>\n",
              "</table>\n",
              "</div>"
            ],
            "text/plain": [
              "         Date  Value\n",
              "0  1970-01-01   35.2\n",
              "1  1970-04-01   35.1\n",
              "2  1970-07-01   35.4\n",
              "3  1970-10-01   36.2\n",
              "4  1971-01-01   37.4\n",
              "5  1971-04-01   38.9\n",
              "6  1971-07-01   40.1\n",
              "7  1971-10-01   42.0\n",
              "8  1972-01-03   43.5\n",
              "9  1972-04-03   48.3"
            ]
          },
          "metadata": {},
          "execution_count": 6
        }
      ]
    },
    {
      "cell_type": "code",
      "metadata": {
        "id": "k0kuvBqqIDr9",
        "colab": {
          "base_uri": "https://localhost:8080/"
        },
        "outputId": "c8f8701b-50b9-42ae-c45d-57923db07c69"
      },
      "source": [
        "etiqueta = np.array(dataframeGold['Value'])[2:]\n",
        "car_m1 = np.array(dataframeGold['Value'])[1:-1]\n",
        "car_m2 = np.array(dataframeGold['Value'])[:-2]\n",
        "print(len(etiqueta))\n",
        "print(len(car_m1))\n",
        "print(len(car_m2))"
      ],
      "execution_count": 7,
      "outputs": [
        {
          "output_type": "stream",
          "text": [
            "10785\n",
            "10785\n",
            "10785\n"
          ],
          "name": "stdout"
        }
      ]
    },
    {
      "cell_type": "code",
      "metadata": {
        "id": "C_kbWkKeJV0p"
      },
      "source": [
        "## Agrupando los datos en un único Dataframe y exportándolo a un archivo CSV\n",
        "dataset = pd.DataFrame({'Carac menos 2':car_m2, 'Carac menos 1':car_m1, 'Etiqueta':etiqueta})\n",
        "dataset.to_csv('goldPriceArranged.csv')"
      ],
      "execution_count": 8,
      "outputs": []
    },
    {
      "cell_type": "code",
      "metadata": {
        "id": "g0aUVperRvwL",
        "colab": {
          "base_uri": "https://localhost:8080/"
        },
        "outputId": "adb4aca9-e4c8-4037-dbca-508b5d090bd6"
      },
      "source": [
        "## Pasando los datos a una matriz de tipo numpy\n",
        "matrizDatos = dataset.to_numpy()\n",
        "print(matrizDatos.shape)"
      ],
      "execution_count": 9,
      "outputs": [
        {
          "output_type": "stream",
          "text": [
            "(10785, 3)\n"
          ],
          "name": "stdout"
        }
      ]
    },
    {
      "cell_type": "code",
      "metadata": {
        "id": "f4Ftvbuo-0iR",
        "colab": {
          "base_uri": "https://localhost:8080/"
        },
        "outputId": "afec061d-fa3f-4a25-c865-b87af16ee89a"
      },
      "source": [
        "print(car_m1)\n",
        "print(etiqueta)\n",
        "print(car_m2)"
      ],
      "execution_count": 10,
      "outputs": [
        {
          "output_type": "stream",
          "text": [
            "[  35.1    35.4    36.2  ... 1655.7  1653.75 1570.7 ]\n",
            "[  35.4    36.2    37.4  ... 1653.75 1570.7  1562.8 ]\n",
            "[  35.2    35.1    35.4  ... 1672.5  1655.7  1653.75]\n"
          ],
          "name": "stdout"
        }
      ]
    },
    {
      "cell_type": "code",
      "metadata": {
        "id": "IGxPW_rjDq7Z"
      },
      "source": [
        "def funcCosto(arr_1, arr_2):\n",
        "  J = np.power(arr_1-arr_2,2)\n",
        "  return np.sum(J)/(2*len(J))\n"
      ],
      "execution_count": 11,
      "outputs": []
    },
    {
      "cell_type": "code",
      "metadata": {
        "id": "RJOxHHm7PNES",
        "colab": {
          "base_uri": "https://localhost:8080/"
        },
        "outputId": "10885d8c-0a45-499c-b771-b2248e462b19"
      },
      "source": [
        "## Pasos GridSearch\n",
        "#  h(x) = T0*x0 + T1*x1\n",
        "\n",
        "# 1. Valores a T0 a T1\n",
        "\n",
        "dict_resultados = dict()\n",
        "for T0 in np.arange(-3,3,1/100):\n",
        "  for T1 in np.arange(-3,3,1/100):\n",
        "\n",
        "#   2. Encuentras h(x)\n",
        "    h_x = T0*car_m1 + T1*car_m2\n",
        "\n",
        "#   3. Evalúar la función de costo\n",
        "    dict_resultados[(T0,T1)]=funcCosto(h_x,etiqueta)\n",
        "# 4. Encontrar el menor\n",
        "parameters = list(dict_resultados.keys())\n",
        "#print(parameters)\n",
        "costValues = np.array(list(dict_resultados.values()))\n",
        "#print(costValues)\n",
        "indexMinCost = costValues.argmin()\n",
        "print(indexMinCost)\n",
        "bestParameters = parameters[indexMinCost]\n",
        "print(\"Los mejores parámetros son:\",bestParameters,\"donde la función de costo retornó: \",costValues[indexMinCost])\n"
      ],
      "execution_count": 12,
      "outputs": [
        {
          "output_type": "stream",
          "text": [
            "239701\n",
            "Los mejores parámetros son: (0.989999999999915, 0.009999999999935838) donde la función de costo retornó:  40.803401532674926\n"
          ],
          "name": "stdout"
        }
      ]
    },
    {
      "cell_type": "code",
      "metadata": {
        "id": "bYP4yfyIo3fy",
        "colab": {
          "base_uri": "https://localhost:8080/",
          "height": 298
        },
        "outputId": "c353d132-7f7b-445f-ead4-da577005d90a"
      },
      "source": [
        "print(\"Los mejores parámetros son:\",bestParameters,\"donde la función de costo retornó: \",costValues[indexMinCost])\n",
        "plt.scatter(car_m1,etiqueta)\n",
        "x = np.arange(car_m1.min(),car_m1.max(),(car_m1.max()-car_m1.min())/1000)\n",
        "plt.plot(x,bestParameters[0]+bestParameters[1]*x,'r-')\n",
        "plt.title(\"Muestras e Hipótesis\")\n",
        "plt.show()"
      ],
      "execution_count": 16,
      "outputs": [
        {
          "output_type": "stream",
          "text": [
            "Los mejores parámetros son: (0.989999999999915, 0.009999999999935838) donde la función de costo retornó:  40.803401532674926\n"
          ],
          "name": "stdout"
        },
        {
          "output_type": "display_data",
          "data": {
            "image/png": "[encoded data removed]",
            "text/plain": [
              "<Figure size 432x288 with 1 Axes>"
            ]
          },
          "metadata": {
            "needs_background": "light"
          }
        }
      ]
    },
    {
      "cell_type": "markdown",
      "metadata": {
        "id": "CfYicBcfwQ_m"
      },
      "source": [
        ""
      ]
    },
    {
      "cell_type": "code",
      "metadata": {
        "id": "SsIAHl4xqBJr",
        "colab": {
          "base_uri": "https://localhost:8080/",
          "height": 248
        },
        "outputId": "b55346bc-5cd1-49e4-9b3b-60460b32ba65"
      },
      "source": [
        "fig = plt.figure()\n",
        "ax = plt.axes(projection='3d')\n",
        "ax.scatter3D([p[0] for p in parameters],[p[1] for p in parameters],list(dict_resultados.values()))\n",
        "ax.set_xlabel('Teta 0')\n",
        "ax.set_ylabel('Teta 1')\n",
        "ax.set_zlabel('Cost');"
      ],
      "execution_count": 17,
      "outputs": [
        {
          "output_type": "display_data",
          "data": {
            "image/png": "[encoded data removed]",
            "text/plain": [
              "<Figure size 432x288 with 1 Axes>"
            ]
          },
          "metadata": {
            "needs_background": "light"
          }
        }
      ]
    }
  ]
}