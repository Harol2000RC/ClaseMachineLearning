{
  "nbformat": 4,
  "nbformat_minor": 0,
  "metadata": {
    "colab": {
      "name": "Coeficiente_de_determinacion.ipynb",
      "provenance": [],
      "include_colab_link": true
    },
    "kernelspec": {
      "name": "python3",
      "display_name": "Python 3"
    },
    "language_info": {
      "name": "python"
    }
  },
  "cells": [
    {
      "cell_type": "markdown",
      "metadata": {
        "id": "view-in-github",
        "colab_type": "text"
      },
      "source": [
        "<a href=\"https://colab.research.google.com/github/Harol2000RC/ClaseMachineLearning/blob/main/Coeficiente_Determinacion.ipynb\" target=\"_parent\"><img src=\"https://colab.research.google.com/assets/colab-badge.svg\" alt=\"Open In Colab\"/></a>"
      ]
    },
    {
      "cell_type": "code",
      "metadata": {
        "id": "45zAemG0QyyV"
      },
      "source": [
        "## Librerias\n",
        "import numpy as np\n",
        "\n",
        "#VALORES DE ARREGLO DE VOLTAJE Y CORRIENTE:\n",
        "\n",
        "# valores de corriente I\n",
        "I = np.array([1, 1.5, 2, 2.5, 3, 3.5, 4, 4.5, 5, 5.5, 6]) \n",
        "# Valores de voltaje V\n",
        "V = np.array([0.169610271922408, 0.283395812542308, 0.386358737510785, 0.470227872390909, 0.433281293764675, 0.600267648212653, 0.738338980436742, 0.790315020494445, 0.877464268422459, 0.84356446225183, 0.96443891694455])\n",
        "\n",
        "# DEFINICION DE VALORES DE LOS 2 PARAMETROS\n",
        "P0=0.039        #parametro 1\n",
        "P1=0.159        #parametro 2\n"
      ],
      "execution_count": 35,
      "outputs": []
    },
    {
      "cell_type": "code",
      "metadata": {
        "id": "pajli9QF8TPK"
      },
      "source": [
        "#Modelo lineal con los dos parametros\n",
        "H = P0+P1*Carac                 \n",
        "\n",
        "#Media de los valores de voltaje\n",
        "media_V = V.mean()              \n",
        "\n",
        "#vectores coeficiente de error y variacion\n",
        "C_Error=np.zeros(11)\n",
        "Variacion=np.zeros(11)\n",
        "\n",
        "for i in range(len(V)):\n",
        "    C_Error[i] = pow(V[i]-H[i],2)          #calculo coeficiente de error \n",
        "    Variacion[i] = pow(V[i]-etiq_media,2)  #calculo variacion "
      ],
      "execution_count": 42,
      "outputs": []
    },
    {
      "cell_type": "code",
      "metadata": {
        "colab": {
          "base_uri": "https://localhost:8080/"
        },
        "id": "SGz5pNGHWXS3",
        "outputId": "a4ef1bfd-07bb-413a-ee2f-24aa5bbb462e"
      },
      "source": [
        "#coeficiente de error entre los puntos y la recta.\n",
        "C_Error=C_Error.sum()\n",
        "\n",
        "#variacion total \n",
        "Variacion=Variacion.sum()       \n",
        "C_determinacion=1-(C_Error/Variacion)\n",
        "\n",
        "print(C_determinacion) #imprimir el valor de coeficiente de determinacion."
      ],
      "execution_count": 39,
      "outputs": [
        {
          "output_type": "stream",
          "name": "stdout",
          "text": [
            "0.9677235456385962\n"
          ]
        }
      ]
    }
  ]
}